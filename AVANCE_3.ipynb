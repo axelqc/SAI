{
  "nbformat": 4,
  "nbformat_minor": 0,
  "metadata": {
    "colab": {
      "name": "AVANCE 1.ipynb",
      "provenance": []
    },
    "kernelspec": {
      "name": "python3",
      "display_name": "Python 3"
    },
    "language_info": {
      "name": "python"
    }
  },
  "cells": [
    {
      "cell_type": "markdown",
      "metadata": {
        "id": "V8dX74yshlzq"
      },
      "source": [
        "### Etapa 3 Proyecto Integrador"
      ]
    },
    {
      "cell_type": "markdown",
      "metadata": {
        "id": "Qyd83Qqshr6y"
      },
      "source": [
        "Nombre de la actividad: Etapa 2; Proyecto inegrador\n",
        "\n",
        "Fecha: 10/17/2021\n",
        "\n",
        "\n",
        "Nombre: Axel Quiroga Caldera \n",
        "\n",
        "\n",
        "Matricula: A00832676\n",
        "\n",
        "\n",
        "Enlace de tu google colab: https://colab.research.google.com/drive/1YlYQrbW5nxEObw7UVcr1T3oMxTt0dcqs?usp=sharing\n",
        "\n",
        "\n",
        "Enlace github: https://github.com/axelqc/TC1028"
      ]
    },
    {
      "cell_type": "markdown",
      "metadata": {
        "id": "RXZ1pAcpiXk9"
      },
      "source": [
        "Descripcion del problema: Desarrollar un sistema que permita a los alumnos de 15 años mejorar sus habilidades y conocimientos en alguna de las 3 áreas de enfoque que evalúa la prueba PISA: lectura, matemáticas y ciencias."
      ]
    },
    {
      "cell_type": "markdown",
      "metadata": {
        "id": "sjhw-Zt-iczF"
      },
      "source": [
        "Solucion: Hacer un codigo que incluya todo lo anterior"
      ]
    },
    {
      "cell_type": "markdown",
      "metadata": {
        "id": "NhOoWtzbgKnv"
      },
      "source": [
        "### Primera Entrega, Descripcion: "
      ]
    },
    {
      "cell_type": "markdown",
      "metadata": {
        "id": "hRtV0664gNrX"
      },
      "source": [
        "La evaluación PISA (Programme for International Student Assessment) es un programa internacional realizado por la OCDE para medir el rendimiento académico de los alumnos alrededor del mundo en 3 campos; lectura, ciencia y matemáticas. Con el fin de recolectar información sobre la educación en los países para que estos mejoren sus programas educativos para que mejoren en las siguientes pruebas. La prueba se realiza a estudiantes de 15 años con unos exámenes estandarizados que se aplican desde el año 2000 y se realizan cada tres años.\n",
        "\n",
        "\n",
        "En la prueba del año 2018, los mexicanos obtuvieron un puntaje inferior al promedio en las tres asignaturas (lectura, matemáticas y ciencias). Solo el 1% de los estudiantes mexicanos obtuvieron un desempeño muy alto (OCDE, 2018). Por consiguiente, la problemática se basa en llevar a cabo una estrategia con enfoque tecnológico para ayudar a los estudiantes de 15 años a aprender y puedan obtener una mayor puntación.\n",
        "\n",
        "\n",
        "Para ayudar a los estudiantes a prepararse, se opto por contratar a estudiantes del Tecnológico de Monterrey para que estos desarrollen cada uno algún tipo de código en Python para que los estudiantes tengan un algoritmo que despliegue un menú de opciones y los estudiantes puedan agregar preguntas, actualizarlas, practicar, hacer quizzes y además llevar cuenta de sus calificaciones para que puedan tener run registro de su progreso. \n",
        "\n",
        "\n",
        "Este programa se va a resolver primeramente definiendo todas las funciones del programa con el comando def en Python, después se usará el comando print para desplegar el menú, posteriormente se usara el comando input para que el usuario escoja una opción del menú para que los condicionales if/ elif / else para redirigir al alumno a la opción que él haya escogido, para que después otra función se encargue de hacer seguir sus comandos y al acabar que se utilice un while para vuelva a preguntar al usuario si le gustaría salir o si le gustaría seguir navegando en otras opciones. Otros comandos que se utilizarán en el programa serán listas para ahí poner las preguntas y en otra lista aparte incluir las posibles respuestas. También se utilizarán acumuladores para hacer ciertas evaluaciones con los operadores condicionales.\n",
        "\n",
        "\n",
        "Por el momento, la opción 1 del menú ya está completa, cabe destacar que le decidí avanzar a la opción 3 del menú para que desplegará las preguntas de cada área junto con las posibles respuestas y la respuesta correcta, aunque por el momento solo sirve con una pregunta porque no he llegado a la lógica necesaria para que despliegue mas preguntas. Finalmente, le avance un poco con la opción 5 del menú para que el alumno pueda revisar sus calificaciones, use listas vacías, pero el propósito de estas listas es irse llenando cada que el alumno haga un quiz, también agregue con un for que se desplegaran todos los resultados de la lista. También con la librería statistitcs pude poner ciertos “insights” de las calificaciones del alumno y finalmente usé la librería matploltlib para hacer una grafica de barras y tener un registro más visual. Invito a que llene en la línea 144 a llenar con algunas calificaciones del 1 al 100 para que se aprovechen esas herramientas, cabe destacar que para ver el grafico de barras de las calificaciones, tienes que salirte del menú. \n"
      ]
    },
    {
      "cell_type": "markdown",
      "metadata": {
        "id": "mX51tTXAi-0s"
      },
      "source": [
        "### Segunda entrega, Descrpcion de cada funcion"
      ]
    },
    {
      "cell_type": "markdown",
      "metadata": {
        "id": "c7XwSFHmnkgF"
      },
      "source": [
        "Menu, en esta función se imprime el menú utilizando el fstring y se le pregunta al usuario a que sección del menú le gustaría dirigirse, este input se le puso un nombre para posteriormente hacerla una variable global para que se pudiera utilizar en la función main.\n",
        "Alta de preguntas, en esa función a base de listas y ciclos for, pude preguntarle al usuario los datos sobre es pregunta para posteriormente agregarlos a un banco de preguntas, que es una matriz. Para la próxima entrega se planea que esta matriz se almacene en un documento txt.\n",
        "\n",
        "Actualizar pregunta, esta función fue la más difícil de realizar. Primero se depsliegan todas las preguntas para que el usuario identifique cuales están mal y después actualizar la pregunta equivocada, decidí utilizar numpy para encontrar el id de la pregunta y convertir este input del usuario en un string para que numpy pudiera encontrar la ubicación del id que le fue dado. Después le pregunte al usuario que quería actualizar de la pregunta, el id, la pregunta o alguna respuesta y posteriormente con un if lo fui rediccionando a la sección adecuada, después se puso un if dentro del if para que el usuario estuviera seguro de que si quería actualizar, después se realizo el append al banco de preguntas y se muestra la pregunta actualizada. \n",
        "\n",
        "Estudiar preguntas de cierta área, primero se le pregunta al usuario que área quiere estudiar y después la cantidad de preguntas que quisiera estudiar. Volví a utilizar numpy para usar la función np.where para que numpy buscara e identificara las preguntas de esa área. Con un for se despliegan las preguntas de esa área y se le pregunta al usuario la respuesta correcta, con un if se valido si la respuesta era correcta o incorrecta, en caso de ser incorrecta, se muestra la respuesta correcta.\n",
        "\n",
        "Presentar un quiz, en esta sección se muestran las preguntas almacenadas en el banco de preguntas, con un for de mostraron una por una, junto con la opción input para que el usuario introdujera la respuesta, además que hay dos acumuladores, uno para las respuestas correctas y otro para las respuestas incorrectas. Al acabar las 10 preguntas, se hace calculo en porcentaje de las respuestas correctas e incorrectas y se despliega el tiempo que se tardo el usuario, para la función del timo, se tuvo que crear otra función con la librería time. También, la calificación se manda a una lista para tener un registro de las calificaciones.\n",
        "\n",
        "Reporte de calificaciones en esta sección incluye la librería matplotlib para generar una grafica de barras de las calificaciones anteriores para tener un registro más visual. Hice una matriz para tener el registro de las calificaciones del usuario, en el registro aparece su: promedio, su calificación más alta, su calificación mas baja, sus calificaciones anteriores y el total de usuarios. Cabe destacar que la grafica se muestra al finalizar el programa.\n",
        "Función main, esta es la función principal porque aquí se juntan todas las funciones describidas anteriormente y con la variable global mencionada en la parte de menú, se evlaua a que sección del menú dirigirlo con un conjunto de ifs, elifs y else. Además que esta en un ciclo while para que el menú se repita constantemente y el usuario pueda estar en las secciones que desee, el menú se acaba al oprmir la opción de salir, que te redirige a una función que tiene un print y un break.\n"
      ]
    },
    {
      "cell_type": "markdown",
      "metadata": {
        "id": "mgaCay4-Mij0"
      },
      "source": [
        "### Tercera entrega, reflexion"
      ]
    },
    {
      "cell_type": "markdown",
      "metadata": {
        "id": "IejTV6igMo2j"
      },
      "source": [
        "A lo largo de esas 10 semanas pude reforzar aprendizajes que ya habia aprendido ademas de aprender cosas nuevas, como el manejo de matrics y de archivos. A lo largode este proyecto aprendi a usar librerias como numpy, statisics y matplolib que me ayudaron para manejar las matrices y hacerme el trabajo un poco mas facil, tambien investigue much para saber como aplicar numpy a este proyecto. Creo que en este proyecto hice algunas cosas bien, pero muchas otras que puedon mejorar. Tambien aprendi a manejar el estres y a aprender a buscar mis errores stackflow.\n",
        "\n",
        "Dentro de las cosas que puedo mejorar yo creo que seria el manejo de archivos y matrices, para aprenderlos a usar mejor, tambien no hacer tanto \"pecado\" en mi programa, o sea poner en prectica el PEP8."
      ]
    },
    {
      "cell_type": "markdown",
      "metadata": {
        "id": "PncaO7yEWMJT"
      },
      "source": [
        "### Leer archivo"
      ]
    },
    {
      "cell_type": "code",
      "metadata": {
        "id": "dVJBzapgWVKI"
      },
      "source": [
        "nombre = \"preguntas_Bonitas.txt\"\n",
        "global preguntas\n",
        "\n",
        "\n",
        "def leer_archivo(nombre_archivo):\n",
        "\n",
        "  with open(nombre, 'r') as archivo:\n",
        "\n",
        "    contenido = archivo.readlines()\n",
        "\n",
        "    for elemento in contenido: \n",
        "      linea = elemento.split(',')\n",
        "      linea[7] = linea[7][:-1]\n",
        "      preguntas.append(linea)"
      ],
      "execution_count": 82,
      "outputs": []
    },
    {
      "cell_type": "markdown",
      "metadata": {
        "id": "x1Gi2HwLWMVg"
      },
      "source": [
        "### Grabar archivo"
      ]
    },
    {
      "cell_type": "code",
      "metadata": {
        "id": "3-vMVKMNWUma"
      },
      "source": [
        "def guardar_archivo(nombre_archivo, lista):\n",
        "\n",
        "  with open(nombre_archivo, \"w\") as archivo: \n",
        "    \n",
        "    for pregunta in lista:\n",
        "\n",
        "      pregunta[0] = str(pregunta[0])\n",
        "      texto = \",\".join(pregunta)\n",
        "      archivo.write(texto + '\\n') \n",
        "    "
      ],
      "execution_count": 83,
      "outputs": []
    },
    {
      "cell_type": "markdown",
      "metadata": {
        "id": "G7Lnh67vcBut"
      },
      "source": [
        "### Registrar Preguntas\n"
      ]
    },
    {
      "cell_type": "code",
      "metadata": {
        "id": "hB-jb_DRXmhm"
      },
      "source": [
        "import statistics\n",
        "import matplotlib\n",
        "import matplotlib.pyplot as plt\n",
        "\n",
        "def registrar_preguntas():\n",
        "  global matriz_Preguntas\n",
        "  \n",
        "  matriz_Preguntas = [[1, 'Mate', '8 + 8 * 1/2', '13', '12', '15', '15.56', '12'],\n",
        "                      [2, 'Mate', '(256)^1/2', '9', '8', '17', '16', '16'],\n",
        "                      [3, 'Lectura', 'Quien escribio 1984?', 'Orwell', 'Kafka', 'Coelho', 'Garcia Marquez', 'Orwell'],\n",
        "                      [4, 'Lectura', 'Cual es el género de 100 años de soledad?', 'epístola', 'epopeya', 'poema', 'realismo mágico', 'realismo mágico'],\n",
        "                      [5, 'Mate', 'cual es un numero par?', '115', '217', '108', '159', '108'],\n",
        "                      [6, 'Mate', 'Cual es un numero impar?', '13', '12', '24', '36', '13'],\n",
        "                      [7, 'Ciencias', 'Quien propuso la evolucion?', 'Newton', 'Socrates', 'Darwin', 'Euler', 'Darwin']\n",
        "                      ]\n",
        "                    \n",
        "  Preguntas\n",
        "\n",
        "  id_pregunta = int(input('Ingrese el ID: '))\n",
        "  enfoque = input('Ingrese el enfoque: ')\n",
        "  pregunta = input('Ingrese la pregunta: ')\n",
        "  respuestas = ''\n",
        "\n",
        "  for num in range(4):\n",
        "    respuesta = input(f'Ingrese una posible respuesta: ')\n",
        "\n",
        "    if num == 3:\n",
        "      respuestas = respuestas + respuesta \n",
        "    else:\n",
        "      respuestas = respuestas + respuesta + \",\" \n",
        " \n",
        "  respuestas = respuestas.split(\",\") \n",
        "  \n",
        "  respuesta1, respuesta2, respuesta3, respuesta4 = respuestas \n",
        "              \n",
        "  respuesta_correcta = input('Ingrese la respuesta correcta: ')\n",
        "\n",
        "  Lista_pregunta = [id_pregunta, enfoque, pregunta, respuesta1, respuesta2, respuesta3, respuesta4, respuesta_correcta]\n",
        "  matriz_Preguntas.append(Lista_pregunta)\n",
        "  guardar_archivo(nombre, matriz_Preguntas)"
      ],
      "execution_count": 84,
      "outputs": []
    },
    {
      "cell_type": "markdown",
      "metadata": {
        "id": "5fzb613ycL4t"
      },
      "source": [
        "### Actualizar Preguntas"
      ]
    },
    {
      "cell_type": "code",
      "metadata": {
        "id": "gKy-UMrQbf8B"
      },
      "source": [
        "import numpy as np\n",
        "def actualizar_pregunta(): \n",
        "  print('Opcion 2: Actualizar preguntas')\n",
        "\n",
        "  Preguntas\n",
        "  \n",
        "  np_array = np.array(matriz_Preguntas)\n",
        "\n",
        "  for pregunta in matriz_Preguntas: # desplegar todas las preguntas para que vea cualquiere cambiar\n",
        "    id_pregunta, enfoque, pregunta, respuesta1, respuesta2, respuesta3, respuesta4, respuesta_correcta = pregunta\n",
        "\n",
        "    print(f\"ID de la pregunta: {id_pregunta} \\nEnfoque de la pregunta: {enfoque} \\nPregunta: {pregunta}\")\n",
        "    print(f\"a){respuesta1:<15}b){respuesta2:<15}c){respuesta3:<15}d){respuesta4:<15} \\n\")\n",
        "   \n",
        "  opcion = str(input('Ingrese el ID de la pregunta que quiera cambiar: '))\n",
        " \n",
        "  row, column = np.where(np_array == opcion)\n",
        "\n",
        "  #print(int(row))\n",
        "  #print(opcion)\n",
        "\n",
        "  print(f\"\\nID de la pregunta: {matriz_Preguntas[int(row)][0]}\\nEnfoque de la pregunta: {matriz_Preguntas[int(row)][1]}\\nPregunta: {matriz_Preguntas[int(row)][2]}\")\n",
        "  print(f\"a){matriz_Preguntas[int(row)][3]:<15}b){matriz_Preguntas[int(row)][4]:<15}c){matriz_Preguntas[int(row)][5]:<15}d){matriz_Preguntas[int(row)][6]:<15}\")\n",
        "  print(f\"Respuesta correcta: {matriz_Preguntas[int(row)][7]}\")\n",
        "\n",
        "  opcion_2 = input(f'Que quieres cambiar de la pregunta con id {opcion}?\\n Cambiar el id, seccion, la pregunta, r1, r2, r3, r4 o la respuesta correcta? ')\n",
        "\n",
        "  if opcion_2 == 'id':\n",
        "    opcion_3 = int(input('Cual sera el id corregido? '))\n",
        "    opcion_4= input(f'Estas seguro que deseas cambiar {opcion_2}? ')\n",
        "\n",
        "    if opcion_4 == \"Si\":\n",
        "      matriz_Preguntas[int(row)][0] = opcion_3\n",
        "      guardar_archivo(nombre, matriz_Preguntas)\n",
        "    \n",
        "    else:\n",
        "      print('No se gurdaron los cambios')\n",
        "\n",
        "  elif opcion_2 == 'enfoque':\n",
        "    opcion_3 = int(input('Cual sera el enfoque corregido? '))\n",
        "    opcion_4= input(f'Estas seguro que deseas cambiar {opcion_2}? ')\n",
        "\n",
        "    if opcion_4 == \"Si\":\n",
        "      matriz_Preguntas[int(row)][1] = opcion_3\n",
        "      guardar_archivo(nombre, matriz_Preguntas)\n",
        "    \n",
        "    else:\n",
        "      print('No se gurdaron los cambios')\n",
        "\n",
        "  elif opcion_2 == 'pregunta':\n",
        "    opcion_3 = input('Cual sera la pregunta corregida? ')\n",
        "    opcion_4= input(f'Estas seguro que deseas cambiar {opcion_2}? ')\n",
        "\n",
        "    if opcion_4 == \"Si\":\n",
        "      matriz_Preguntas[int(row)][2] = opcion_3\n",
        "      guardar_archivo(nombre, matriz_Preguntas)\n",
        "    \n",
        "    else:\n",
        "      print('No se gurdaron los cambios')\n",
        "\n",
        "  elif opcion_2 == 'r1':\n",
        "    opcion_3 = input('Cual sera la respuesta corregida? ')\n",
        "    opcion_4= input(f'Estas seguro que deseas cambiar {opcion_2}?')\n",
        "\n",
        "    if opcion_4 == \"Si\":\n",
        "      matriz_Preguntas[int(row)][3] = opcion_3\n",
        "      guardar_archivo(nombre, matriz_Preguntas)\n",
        "    \n",
        "    else:\n",
        "      print('No se gurdaron los cambios')\n",
        "\n",
        "  elif opcion_2 == 'r2':\n",
        "    opcion_3 = input('Cual sera la respuesta corregida? ')\n",
        "    opcion_4= input(f'Estas seguro que deseas cambiar {opcion_2}? ')\n",
        "\n",
        "    if opcion_4 == \"Si\":\n",
        "      matriz_Preguntas[int(row)][4] = opcion_3\n",
        "      guardar_archivo(nombre, matriz_Preguntas)\n",
        "    \n",
        "    else:\n",
        "      print('No se gurdaron los cambios')\n",
        "\n",
        "  elif opcion_2 == 'r3':\n",
        "    opcion_3 = input('Cual sera la respuesta corregida? ')\n",
        "    opcion_4= input(f'Estas seguro que deseas cambiar {opcion_2}?')\n",
        "    guardar_archivo(nombre, matriz_Preguntas)\n",
        "\n",
        "    if opcion_4 == \"Si\":\n",
        "      matriz_Preguntas[int(row)][5] = opcion_3\n",
        "    \n",
        "    else:\n",
        "      print('No se gurdaron los cambios')\n",
        "\n",
        "  elif opcion_2 == 'r4':\n",
        "    opcion_3 = input('Cual sera la respuesta corregida? ')\n",
        "    opcion_4= input(f'Estas seguro que deseas cambiar {opcion_2}? ')\n",
        "\n",
        "    if opcion_4 == \"Si\":\n",
        "      matriz_Preguntas[int(row)][6] = opcion_3\n",
        "      guardar_archivo(nombre, matriz_Preguntas)\n",
        "    \n",
        "    else:\n",
        "      print('No se gurdaron los cambios')\n",
        "\n",
        "  elif opcion_2 == 'respuesta correcta':\n",
        "    opcion_3 = input('Cual sera la respuesta corregida? ')\n",
        "    opcion_4= input(f'Estas seguro que deseas cambiar {opcion_2}? ')\n",
        "\n",
        "    if opcion_4 == \"Si\":\n",
        "      matriz_Preguntas[int(row)][7] = opcion_3\n",
        "      guardar_archivo(nombre, matriz_Preguntas)\n",
        "    \n",
        "    else:\n",
        "      print('No se gurdaron los cambios')\n",
        "\n",
        "  else:\n",
        "    print('Valor incorrecto,\\nCambiar el id, la pregunta, r1, r2, r3, r4 o la respuesta correcta?')  \n",
        "\n",
        "  print(f\"\\nID de la pregunta: {matriz_Preguntas[int(row)][0]}\\nEnfoque de la pregunta: {matriz_Preguntas[int(row)][1]}\\nPregunta: {matriz_Preguntas[int(row)][2]}\")\n",
        "  print(f\"a){matriz_Preguntas[int(row)][3]:<15}b){matriz_Preguntas[int(row)][4]:<15}c){matriz_Preguntas[int(row)][5]:<15}d){matriz_Preguntas[int(row)][6]:<15}\")\n",
        "  print(f\"Respuesta correcta: {matriz_Preguntas[int(row)][7]}\")\n"
      ],
      "execution_count": 85,
      "outputs": []
    },
    {
      "cell_type": "markdown",
      "metadata": {
        "id": "2Hz8rZb_cQZ2"
      },
      "source": [
        "### Estudiar Area"
      ]
    },
    {
      "cell_type": "code",
      "metadata": {
        "id": "6CroEI06bdBY"
      },
      "source": [
        "import numpy as np\n",
        "\n",
        "def estudiar_area(): \n",
        "  print('Opcion 3: Estudiar area')\n",
        "\n",
        "  Preguntas\n",
        "\n",
        "  np_array = np.array(matriz_Preguntas)\n",
        "  usuario = input('Ingrese el area que quiera estudiar: ')\n",
        "  num_preguntas = int(input('Ingrese la cantidad de preguntass que quira estudiar: '))\n",
        "  rows, columns = np.where(np_array == usuario)\n",
        "\n",
        "  for row in rows:\n",
        "    print(f\"\\nID de la pregunta: {matriz_Preguntas[int(row)][0]}\\nEnfoque de la pregunta: {matriz_Preguntas[int(row)][1]}\\nPregunta: {matriz_Preguntas[int(row)][2]}\")\n",
        "    print(f\"a){matriz_Preguntas[int(row)][3]:<15}b){matriz_Preguntas[int(row)][4]:<15}c){matriz_Preguntas[int(row)][5]:<15}d){matriz_Preguntas[int(row)][6]:<15}\")\n",
        "    opcion = input('Inoduzca la respuesta correcta: ')\n",
        "\n",
        "    if opcion == matriz_Preguntas[int(row)][7]:\n",
        "      print('Excelente\\n')\n",
        "    \n",
        "    else:\n",
        "      print(f\"Respuesta correcta: {matriz_Preguntas[int(row)][7]}\")\n"
      ],
      "execution_count": 86,
      "outputs": []
    },
    {
      "cell_type": "markdown",
      "metadata": {
        "id": "ITIEnar9CxxM"
      },
      "source": [
        "Timer"
      ]
    },
    {
      "cell_type": "code",
      "metadata": {
        "colab": {
          "base_uri": "https://localhost:8080/",
          "height": 0
        },
        "id": "icOmg-LaCxcW",
        "outputId": "57e65581-ad1a-4baf-a10d-6a9a4004acda"
      },
      "source": [
        "import time\n",
        "h = 0\n",
        "m = 0\n",
        "s = 20\n",
        "\n",
        "def time_convert(sec):\n",
        "  mins = sec // 60\n",
        "  sec = sec % 60\n",
        "  hours = mins // 60\n",
        "  mins = mins % 60\n",
        "  print(\"{0}:{1}\\n\".format(int(mins),round(sec, None)))\n",
        "\n",
        "\n",
        "# input(\"Press Enter to start\")\n",
        "start_time = time.time()\n",
        "# input(\"Press Enter to stop\")\n",
        "end_time = time.time()\n",
        "time_lapsed = end_time - start_time\n",
        "time_convert(time_lapsed)\n",
        "\n",
        "\n",
        "#Recuperado de:\n",
        "#https://www.udacity.com/blog/2021/09/create-a-timer-in-python-step-by-step-guide.html"
      ],
      "execution_count": 87,
      "outputs": [
        {
          "output_type": "stream",
          "name": "stdout",
          "text": [
            "0:0\n",
            "\n"
          ]
        }
      ]
    },
    {
      "cell_type": "markdown",
      "metadata": {
        "id": "mh3CLHslcTme"
      },
      "source": [
        "### Presentar Quiz"
      ]
    },
    {
      "cell_type": "code",
      "metadata": {
        "id": "0bzMV0ZSbYOA"
      },
      "source": [
        "import numpy as np\n",
        "\n",
        "def presentar_quiz(): \n",
        "  Preguntas \n",
        "\n",
        "  global calificaciones, acum, acum_incorrectas, num_usuarios\n",
        "  calificaciones = [88, 50, 100, 36, 80, 66, 70] \n",
        "  num_usuarios = 0\n",
        "\n",
        "  array = np.array(matriz_Preguntas)\n",
        "  rows, columns = array.shape\n",
        "\n",
        "  print('Opcion 4: Presentar quiz\\n')\n",
        "  acum = 0\n",
        "  acum_incorrectas = 0\n",
        "\n",
        "  #tiempo_inicio = countdown(t)\n",
        "  start_time = time.time()\n",
        "\n",
        "  for pregunta in matriz_Preguntas:\n",
        "    id_pregunta, enfoque, pregunta, respuesta1, respuesta2, respuesta3, respuesta4, respuesta_correcta = pregunta\n",
        "\n",
        "    print(f\"ID de la pregunta: {id_pregunta} \\nEnfoque de la pregunta: {enfoque} \\nPregunta: {pregunta}\")\n",
        "    print(f\"a){respuesta1:<15}b){respuesta2:<15}c){respuesta3:<15}d){respuesta4:<15} \\n\")\n",
        "    respuesta = input('Escriba su respuesta o exit para salir: ')\n",
        "\n",
        "\n",
        "    x = 100 / rows\n",
        "    if respuesta == respuesta_correcta:\n",
        "      print('Excelente\\n')\n",
        "      acum = acum + x\n",
        "      #print(f'Tiempo restante: {timer}')\n",
        "    \n",
        "    elif respuesta == \"exit\":\n",
        "      break\n",
        "    \n",
        "    else:\n",
        "      print(f'Incorrecto, la respuesta correcta es: {respuesta_correcta}\\n')\n",
        "      acum_incorrectas = acum_incorrectas + x\n",
        "      #print(f'Tiempo restante: {timer}')\n",
        "    \n",
        "\n",
        "    end_time = time.time()\n",
        "    time_lapsed = end_time - start_time\n",
        "    time_remaining = 20 * 60 - time_lapsed\n",
        "    print('Tiempo restante: ')\n",
        "    time_convert(time_remaining)\n",
        "\n",
        "    \n",
        "\n",
        "\n",
        "  num_usuarios = num_usuarios + 1\n",
        "  calificaciones.append(round(acum, 2))\n",
        "  end_time = time.time()\n",
        "  time_lapsed = end_time - start_time\n",
        "  print('Duracion del examen: ')\n",
        "  time_convert(time_lapsed)"
      ],
      "execution_count": 88,
      "outputs": []
    },
    {
      "cell_type": "markdown",
      "metadata": {
        "id": "h6wNmzNjcXXP"
      },
      "source": [
        "### Reportar Calificaciones"
      ]
    },
    {
      "cell_type": "code",
      "metadata": {
        "id": "2-zy6ik9bUyg",
        "colab": {
          "base_uri": "https://localhost:8080/",
          "height": 847
        },
        "outputId": "accbc11a-ba48-4bea-ea9a-e225ea2df572"
      },
      "source": [
        "import numpy \n",
        "\n",
        "\n",
        "def reportar_calificaciones():\n",
        "  global promedio, maxCalis, minCalis\n",
        "  labelX = []\n",
        "  Preguntas\n",
        "  print('Opcion 5: Reporte de calificaciones')\n",
        "\n",
        "  promedio = statistics.mean(calificaciones)\n",
        "  maxCalis = max(calificaciones)\n",
        "  minCalis = min(calificaciones)\n",
        "  print(np_calificaiones)\n",
        "   \n",
        "\n",
        "  matriz_calis = [['Total de usuarios: ', num_usuarios],\n",
        "                  ['Promedio: ', promedio],\n",
        "                  ['Calificacion mas alta:', maxCalis],\n",
        "                  ['Calificacion mas baja: ', minCalis],\n",
        "                  ['Preguntas correctas: ', round(acum, 2)],\n",
        "                  ['Preguntas incorrectas: ', round(acum_incorrectas, 2)]              \n",
        "  ]\n",
        "\n",
        "  for line in matriz_calis:\n",
        "      print('-' * 30, '|')\n",
        "      print(f'| {line[0]:<15} {line[1]:<15}')\n",
        "\n",
        "  print('-' * 30, '|')\n",
        "  print(\"| Calificaciones almacenadas\".center(15, ' '))\n",
        "  for calificacion in range(len(calificaciones)): \n",
        "      print('-' * 30, '|')\n",
        "      print(\"| Calificacion #\" + str(calificacion + 1) + \" = \" + str(calificaciones[calificacion]))\n",
        "      labelX.append(str(calificacion + 1)) # Para el eje x en el barchart\n",
        "      \n",
        "  print('-' * 30, '|')\n",
        "\n",
        "\n",
        "  matplotlib.pyplot.bar(labelX, calificaciones, color='Magenta' )\n",
        "  plt.xlabel('Intentos')\n",
        "  plt.ylabel('Calificaciones')\n",
        "  plt.title('Graafica de barras de los puntajes del Alumno')\n",
        "\n",
        "  plt.show\n",
        "reportar_calificaciones()"
      ],
      "execution_count": 89,
      "outputs": [
        {
          "output_type": "stream",
          "name": "stdout",
          "text": [
            "Opcion 5: Reporte de calificaciones\n",
            "[ 88  50 100  36  80  66  70   0]\n",
            "------------------------------ |\n",
            "| Total de usuarios:  1              \n",
            "------------------------------ |\n",
            "| Promedio:       61.25          \n",
            "------------------------------ |\n",
            "| Calificacion mas alta: 100            \n",
            "------------------------------ |\n",
            "| Calificacion mas baja:  0              \n",
            "------------------------------ |\n",
            "| Preguntas correctas:  0              \n",
            "------------------------------ |\n",
            "| Preguntas incorrectas:  100.0          \n",
            "------------------------------ |\n",
            "| Calificaciones almacenadas\n",
            "------------------------------ |\n",
            "| Calificacion #1 = 88\n",
            "------------------------------ |\n",
            "| Calificacion #2 = 50\n",
            "------------------------------ |\n",
            "| Calificacion #3 = 100\n",
            "------------------------------ |\n",
            "| Calificacion #4 = 36\n",
            "------------------------------ |\n",
            "| Calificacion #5 = 80\n",
            "------------------------------ |\n",
            "| Calificacion #6 = 66\n",
            "------------------------------ |\n",
            "| Calificacion #7 = 70\n",
            "------------------------------ |\n",
            "| Calificacion #8 = 0\n",
            "------------------------------ |\n"
          ]
        },
        {
          "output_type": "display_data",
          "data": {
            "image/png": "[encoded data removed]",
            "text/plain": [
              "<Figure size 432x288 with 1 Axes>"
            ]
          },
          "metadata": {
            "needs_background": "light"
          }
        }
      ]
    },
    {
      "cell_type": "markdown",
      "metadata": {
        "id": "bWODq9Zccd7X"
      },
      "source": [
        "### Salir"
      ]
    },
    {
      "cell_type": "code",
      "metadata": {
        "id": "kQpP4qFxbRa_"
      },
      "source": [
        "def salir():\n",
        "  print('Saliendo del menu, regrese pronto :)')"
      ],
      "execution_count": 90,
      "outputs": []
    },
    {
      "cell_type": "markdown",
      "metadata": {
        "id": "W4vULbSschIg"
      },
      "source": [
        "### Menu"
      ]
    },
    {
      "cell_type": "code",
      "metadata": {
        "id": "RWThJ3dlbJGA"
      },
      "source": [
        "def menu():\n",
        "  print('''\n",
        "    Menu:\n",
        "    1. Alta de preguntas de prueba PISA (lectura, matemáticas, ciencias)\n",
        "    2. Actualizar preguntas de la prueba PISA (lectura, matemáticas, ciencias)\n",
        "    3. Estudiar preguntas de cierta área (lectura, matemáticas, ciencias)\n",
        "    4. Presentar un quiz (lectura, matemáticas, ciencias)\n",
        "    5. Reporte de calificaciones\n",
        "    6. Salir\n",
        "    ''')\n",
        "\n",
        "  global seleccion1\n",
        "  seleccion1 = int(input('Ingrese una opción: '))"
      ],
      "execution_count": 91,
      "outputs": []
    },
    {
      "cell_type": "markdown",
      "metadata": {
        "id": "qjMvYXowg50B"
      },
      "source": [
        "### **Seccion de Pruebas**"
      ]
    },
    {
      "cell_type": "code",
      "metadata": {
        "colab": {
          "base_uri": "https://localhost:8080/"
        },
        "id": "TJDms8Tjg9kx",
        "outputId": "84fdd463-9a8d-4966-edfc-b7715cd69936"
      },
      "source": [
        "menu()"
      ],
      "execution_count": null,
      "outputs": [
        {
          "name": "stdout",
          "output_type": "stream",
          "text": [
            "\n",
            "    Menu:\n",
            "    1. Alta de preguntas de prueba PISA (lectura, matemáticas, ciencias)\n",
            "    2. Actualizar preguntas de la prueba PISA (lectura, matemáticas, ciencias)\n",
            "    3. Estudiar preguntas de cierta área (lectura, matemáticas, ciencias)\n",
            "    4. Presentar un quiz (lectura, matemáticas, ciencias)\n",
            "    5. Reporte de calificaciones\n",
            "    6. Salir\n",
            "    \n",
            "Ingrese una opción: 5\n"
          ]
        }
      ]
    },
    {
      "cell_type": "code",
      "metadata": {
        "colab": {
          "base_uri": "https://localhost:8080/"
        },
        "id": "7d0uW5ZshBrr",
        "outputId": "c501455d-ff60-42e3-ad32-b1f77faa86e6"
      },
      "source": [
        "registrar_preguntas()"
      ],
      "execution_count": null,
      "outputs": [
        {
          "name": "stdout",
          "output_type": "stream",
          "text": [
            "Ingrese el ID: 666\n",
            "Ingrese el enfoque: Lectura\n",
            "Ingrese la pregunta: Que escribio Horacio Quiroga?\n",
            "Ingrese una posible respuesta: 1984\n",
            "Ingrese una posible respuesta: Almohadon de plumas\n",
            "Ingrese una posible respuesta: Momo\n",
            "Ingrese una posible respuesta: El diario de greg\n",
            "Ingrese la respuesta correcta: Almohadon de plumas\n"
          ]
        }
      ]
    },
    {
      "cell_type": "code",
      "metadata": {
        "colab": {
          "base_uri": "https://localhost:8080/"
        },
        "id": "P90h1IJRhVAX",
        "outputId": "c3268f26-d37e-4754-fa40-bdecb0703e28"
      },
      "source": [
        "estudiar_area()"
      ],
      "execution_count": null,
      "outputs": [
        {
          "output_type": "stream",
          "name": "stdout",
          "text": [
            "Opcion 3: Estudiar area\n",
            "Ingrese el area que quiera estudiar: Lectura\n",
            "Ingrese la cantidad de preguntass que quira estudiar: 3\n",
            "\n",
            "ID de la pregunta: 3\n",
            "Enfoque de la pregunta: Lectura\n",
            "Pregunta: Quien escribio 1984?\n",
            "a)Orwell         b)Kafka          c)Coelho         d)Garcia Marquez \n",
            "Inoduzca la respuesta correcta: Orwell\n",
            "Excelente\n",
            "\n",
            "\n",
            "ID de la pregunta: 4\n",
            "Enfoque de la pregunta: Lectura\n",
            "Pregunta: Cual es el género de 100 años de soledad?\n",
            "a)epístola       b)epopeya        c)poema          d)realismo mágico\n",
            "Inoduzca la respuesta correcta: poema\n",
            "Respuesta correcta: realismo mágico\n",
            "\n",
            "ID de la pregunta: 666\n",
            "Enfoque de la pregunta: Lectura\n",
            "Pregunta: Que escribio Horacio Quiroga?\n",
            "a)1984           b)Almohadon de plumasc)Momo           d)El diario de greg\n",
            "Inoduzca la respuesta correcta: Momo\n",
            "Respuesta correcta: Almohadon de plumas\n"
          ]
        }
      ]
    },
    {
      "cell_type": "code",
      "metadata": {
        "colab": {
          "base_uri": "https://localhost:8080/",
          "height": 0
        },
        "id": "dbsrEzy8hgke",
        "outputId": "b84db0ec-851e-4997-cfab-86d47e7ba06f"
      },
      "source": [
        "presentar_quiz()"
      ],
      "execution_count": 65,
      "outputs": [
        {
          "output_type": "stream",
          "name": "stdout",
          "text": [
            "Opcion 4: Presentar quiz\n",
            "\n",
            "ID de la pregunta: 1 \n",
            "Enfoque de la pregunta: Mate \n",
            "Pregunta: 8 + 8 * 1/2\n",
            "a)13             b)12             c)15             d)15.56           \n",
            "\n",
            "Escriba su respuesta o exit para salir: g\n",
            "Incorrecto, la respuesta correcta es: 12\n",
            "\n",
            "Tiempo restante: \n",
            "19:58\n",
            "\n",
            "ID de la pregunta: 2 \n",
            "Enfoque de la pregunta: Mate \n",
            "Pregunta: (256)^1/2\n",
            "a)9              b)8              c)17             d)16              \n",
            "\n",
            "Escriba su respuesta o exit para salir: d\n",
            "Incorrecto, la respuesta correcta es: 16\n",
            "\n",
            "Tiempo restante: \n",
            "19:57\n",
            "\n",
            "ID de la pregunta: 3 \n",
            "Enfoque de la pregunta: Lectura \n",
            "Pregunta: Quien escribio 1984?\n",
            "a)Orwell         b)Kafka          c)Coelho         d)Garcia Marquez  \n",
            "\n",
            "Escriba su respuesta o exit para salir: f\n",
            "Incorrecto, la respuesta correcta es: Orwell\n",
            "\n",
            "Tiempo restante: \n",
            "19:56\n",
            "\n",
            "ID de la pregunta: 4 \n",
            "Enfoque de la pregunta: Lectura \n",
            "Pregunta: Cual es el género de 100 años de soledad?\n",
            "a)epístola       b)epopeya        c)poema          d)realismo mágico \n",
            "\n",
            "Escriba su respuesta o exit para salir: g\n",
            "Incorrecto, la respuesta correcta es: realismo mágico\n",
            "\n",
            "Tiempo restante: \n",
            "19:56\n",
            "\n",
            "ID de la pregunta: 5 \n",
            "Enfoque de la pregunta: Mate \n",
            "Pregunta: cual es un numero par?\n",
            "a)115            b)217            c)108            d)159             \n",
            "\n",
            "Escriba su respuesta o exit para salir: h\n",
            "Incorrecto, la respuesta correcta es: 108\n",
            "\n",
            "Tiempo restante: \n",
            "19:55\n",
            "\n",
            "ID de la pregunta: 6 \n",
            "Enfoque de la pregunta: Mate \n",
            "Pregunta: Cual es un numero impar?\n",
            "a)13             b)12             c)24             d)36              \n",
            "\n",
            "Escriba su respuesta o exit para salir: d\n",
            "Incorrecto, la respuesta correcta es: 13\n",
            "\n",
            "Tiempo restante: \n",
            "19:55\n",
            "\n",
            "ID de la pregunta: 7 \n",
            "Enfoque de la pregunta: Ciencias \n",
            "Pregunta: Quien propuso la evolucion?\n",
            "a)Newton         b)Platon         c)Darwin         d)Euler           \n",
            "\n",
            "Escriba su respuesta o exit para salir: g\n",
            "Incorrecto, la respuesta correcta es: Darwin\n",
            "\n",
            "Tiempo restante: \n",
            "19:54\n",
            "\n",
            "ID de la pregunta: 777 \n",
            "Enfoque de la pregunta: Mate \n",
            "Pregunta: 88 ? 99\n",
            "a)>              b)<              c)=              d)>=              \n",
            "\n",
            "Escriba su respuesta o exit para salir: g\n",
            "Incorrecto, la respuesta correcta es: <\n",
            "\n",
            "Tiempo restante: \n",
            "19:53\n",
            "\n",
            "Duracion del examen: \n",
            "0:7\n",
            "\n"
          ]
        }
      ]
    },
    {
      "cell_type": "code",
      "metadata": {
        "colab": {
          "base_uri": "https://localhost:8080/",
          "height": 847
        },
        "id": "cgw1nypyhtsQ",
        "outputId": "3264c514-2e49-492f-d489-32d945e16cc1"
      },
      "source": [
        "reportar_calificaciones()"
      ],
      "execution_count": 92,
      "outputs": [
        {
          "output_type": "stream",
          "name": "stdout",
          "text": [
            "Opcion 5: Reporte de calificaciones\n",
            "[ 88  50 100  36  80  66  70   0]\n",
            "------------------------------ |\n",
            "| Total de usuarios:  1              \n",
            "------------------------------ |\n",
            "| Promedio:       61.25          \n",
            "------------------------------ |\n",
            "| Calificacion mas alta: 100            \n",
            "------------------------------ |\n",
            "| Calificacion mas baja:  0              \n",
            "------------------------------ |\n",
            "| Preguntas correctas:  0              \n",
            "------------------------------ |\n",
            "| Preguntas incorrectas:  100.0          \n",
            "------------------------------ |\n",
            "| Calificaciones almacenadas\n",
            "------------------------------ |\n",
            "| Calificacion #1 = 88\n",
            "------------------------------ |\n",
            "| Calificacion #2 = 50\n",
            "------------------------------ |\n",
            "| Calificacion #3 = 100\n",
            "------------------------------ |\n",
            "| Calificacion #4 = 36\n",
            "------------------------------ |\n",
            "| Calificacion #5 = 80\n",
            "------------------------------ |\n",
            "| Calificacion #6 = 66\n",
            "------------------------------ |\n",
            "| Calificacion #7 = 70\n",
            "------------------------------ |\n",
            "| Calificacion #8 = 0\n",
            "------------------------------ |\n"
          ]
        },
        {
          "output_type": "display_data",
          "data": {
            "image/png": "[encoded data removed]",
            "text/plain": [
              "<Figure size 432x288 with 1 Axes>"
            ]
          },
          "metadata": {
            "needs_background": "light"
          }
        }
      ]
    },
    {
      "cell_type": "markdown",
      "metadata": {
        "id": "aLckDPiWiF7q"
      },
      "source": [
        "### **Seccion de Pruebas 2**"
      ]
    },
    {
      "cell_type": "code",
      "metadata": {
        "colab": {
          "base_uri": "https://localhost:8080/"
        },
        "id": "fbnwvJbDiHqK",
        "outputId": "65c600c8-8a78-4e0f-8397-c9598d71472c"
      },
      "source": [
        "menu()"
      ],
      "execution_count": null,
      "outputs": [
        {
          "name": "stdout",
          "output_type": "stream",
          "text": [
            "\n",
            "    Menu:\n",
            "    1. Alta de preguntas de prueba PISA (lectura, matemáticas, ciencias)\n",
            "    2. Actualizar preguntas de la prueba PISA (lectura, matemáticas, ciencias)\n",
            "    3. Estudiar preguntas de cierta área (lectura, matemáticas, ciencias)\n",
            "    4. Presentar un quiz (lectura, matemáticas, ciencias)\n",
            "    5. Reporte de calificaciones\n",
            "    6. Salir\n",
            "    \n",
            "Ingrese una opción: 4\n"
          ]
        }
      ]
    },
    {
      "cell_type": "code",
      "metadata": {
        "colab": {
          "base_uri": "https://localhost:8080/"
        },
        "id": "MwmpuzEXiM_z",
        "outputId": "54ec5dd6-da81-4276-fb57-4011ebf889f7"
      },
      "source": [
        "registrar_preguntas()"
      ],
      "execution_count": null,
      "outputs": [
        {
          "name": "stdout",
          "output_type": "stream",
          "text": [
            "Ingrese el ID: 777\n",
            "Ingrese el enfoque: Ciencias\n",
            "Ingrese la pregunta: Significado de Bio\n",
            "Ingrese una posible respuesta: Vida\n",
            "Ingrese una posible respuesta: Amor\n",
            "Ingrese una posible respuesta: Medicina\n",
            "Ingrese una posible respuesta: Moleculas\n",
            "Ingrese la respuesta correcta: Vida\n"
          ]
        }
      ]
    },
    {
      "cell_type": "code",
      "metadata": {
        "colab": {
          "base_uri": "https://localhost:8080/"
        },
        "id": "6QdSvuBC6Wn8",
        "outputId": "a4d5f536-9e9e-465d-a806-bca6e1f4002d"
      },
      "source": [
        "actualizar_pregunta()"
      ],
      "execution_count": null,
      "outputs": [
        {
          "output_type": "stream",
          "name": "stdout",
          "text": [
            "Opcion 2: Actualizar preguntas\n",
            "ID de la pregunta: 1 \n",
            "Enfoque de la pregunta: Mate \n",
            "Pregunta: 8 + 8 * 1/2\n",
            "a)13             b)12             c)15             d)15.56           \n",
            "\n",
            "ID de la pregunta: 2 \n",
            "Enfoque de la pregunta: Mate \n",
            "Pregunta: (256)^1/2\n",
            "a)9              b)8              c)17             d)16              \n",
            "\n",
            "ID de la pregunta: 3 \n",
            "Enfoque de la pregunta: Lectura \n",
            "Pregunta: Quien escribio 1984?\n",
            "a)Orwell         b)Kafka          c)Coelho         d)Garcia Marquez  \n",
            "\n",
            "ID de la pregunta: 4 \n",
            "Enfoque de la pregunta: Lectura \n",
            "Pregunta: Cual es el género de 100 años de soledad?\n",
            "a)epístola       b)epopeya        c)poema          d)realismo mágico \n",
            "\n",
            "ID de la pregunta: 5 \n",
            "Enfoque de la pregunta: Mate \n",
            "Pregunta: cual es un numero par?\n",
            "a)115            b)217            c)108            d)159             \n",
            "\n",
            "ID de la pregunta: 6 \n",
            "Enfoque de la pregunta: Mate \n",
            "Pregunta: Cual es un numero impar?\n",
            "a)13             b)12             c)24             d)36              \n",
            "\n",
            "ID de la pregunta: 7 \n",
            "Enfoque de la pregunta: Ciencias \n",
            "Pregunta: Quien propuso la evolucion?\n",
            "a)Newton         b)Socrates       c)Darwin         d)Euler           \n",
            "\n",
            "ID de la pregunta: 665 \n",
            "Enfoque de la pregunta: Mate \n",
            "Pregunta: 30 * 868\n",
            "a)25040          b)24040          c)27040          d)26040           \n",
            "\n",
            "Ingrese el ID de la pregunta que quiera cambiar: 665\n",
            "\n",
            "ID de la pregunta: 665\n",
            "Enfoque de la pregunta: Mate\n",
            "Pregunta: 30 * 868\n",
            "a)25040          b)24040          c)27040          d)26040          \n",
            "Respuesta correcta: 26040\n",
            "Que quieres cambiar de la pregunta con id 665?\n",
            " Cambiar el id, seccion, la pregunta, r1, r2, r3, r4 o la respuesta correcta? id\n",
            "Cual sera el id corregido? 333\n",
            "Estas seguro que deseas cambiar id? Si\n",
            "\n",
            "ID de la pregunta: 333\n",
            "Enfoque de la pregunta: Mate\n",
            "Pregunta: 30 * 868\n",
            "a)25040          b)24040          c)27040          d)26040          \n",
            "Respuesta correcta: 26040\n"
          ]
        }
      ]
    },
    {
      "cell_type": "code",
      "metadata": {
        "colab": {
          "base_uri": "https://localhost:8080/"
        },
        "id": "C8tS4nfGiV-L",
        "outputId": "87dd5eb5-15ca-4dd2-a9eb-2d93f00a0a30"
      },
      "source": [
        "estudiar_area()"
      ],
      "execution_count": null,
      "outputs": [
        {
          "output_type": "stream",
          "name": "stdout",
          "text": [
            "Opcion 3: Estudiar area\n",
            "Ingrese el area que quiera estudiar: Ciencias\n",
            "Ingrese la cantidad de preguntass que quira estudiar: 2\n",
            "\n",
            "ID de la pregunta: 7\n",
            "Enfoque de la pregunta: Ciencias\n",
            "Pregunta: Quien propuso la evolucion?\n",
            "a)Newton         b)Socrates       c)Darwin         d)Euler          \n",
            "Inoduzca la respuesta correcta: Darwin\n",
            "Excelente\n",
            "\n",
            "\n",
            "ID de la pregunta: 777\n",
            "Enfoque de la pregunta: Ciencias\n",
            "Pregunta: Significado de Bio\n",
            "a)Vida           b)Amor           c)Medicina       d)Moleculas      \n",
            "Inoduzca la respuesta correcta: Vida\n",
            "Excelente\n",
            "\n"
          ]
        }
      ]
    },
    {
      "cell_type": "code",
      "metadata": {
        "colab": {
          "base_uri": "https://localhost:8080/"
        },
        "id": "MgbyoK1bihH6",
        "outputId": "526d4e20-bbeb-4d77-f478-7d4e01ba000a"
      },
      "source": [
        "presentar_quiz()"
      ],
      "execution_count": null,
      "outputs": [
        {
          "output_type": "stream",
          "name": "stdout",
          "text": [
            "Opcion 4: Presentar quiz\n",
            "\n",
            "ID de la pregunta: 1 \n",
            "Enfoque de la pregunta: Mate \n",
            "Pregunta: 8 + 8 * 1/2\n",
            "a)13             b)12             c)15             d)15.56           \n",
            "\n",
            "Escriba su respuesta o exit para salir: 13\n",
            "Incorrecto, la respuesta correcta es: 12\n",
            "\n",
            "ID de la pregunta: 2 \n",
            "Enfoque de la pregunta: Mate \n",
            "Pregunta: (256)^1/2\n",
            "a)9              b)8              c)17             d)16              \n",
            "\n",
            "Escriba su respuesta o exit para salir: 17\n",
            "Incorrecto, la respuesta correcta es: 16\n",
            "\n",
            "ID de la pregunta: 3 \n",
            "Enfoque de la pregunta: Lectura \n",
            "Pregunta: Quien escribio 1984?\n",
            "a)Orwell         b)Kafka          c)Coelho         d)Garcia Marquez  \n",
            "\n",
            "Escriba su respuesta o exit para salir: Kakfa\n",
            "Incorrecto, la respuesta correcta es: Orwell\n",
            "\n",
            "ID de la pregunta: 4 \n",
            "Enfoque de la pregunta: Lectura \n",
            "Pregunta: Cual es el género de 100 años de soledad?\n",
            "a)epístola       b)epopeya        c)poema          d)realismo mágico \n",
            "\n",
            "Escriba su respuesta o exit para salir: poema\n",
            "Incorrecto, la respuesta correcta es: realismo mágico\n",
            "\n",
            "ID de la pregunta: 5 \n",
            "Enfoque de la pregunta: Mate \n",
            "Pregunta: cual es un numero par?\n",
            "a)115            b)217            c)108            d)159             \n",
            "\n",
            "Escriba su respuesta o exit para salir: 108\n",
            "Excelente\n",
            "\n",
            "ID de la pregunta: 6 \n",
            "Enfoque de la pregunta: Mate \n",
            "Pregunta: Cual es un numero impar?\n",
            "a)13             b)12             c)24             d)36              \n",
            "\n",
            "Escriba su respuesta o exit para salir: 24\n",
            "Incorrecto, la respuesta correcta es: 13\n",
            "\n",
            "ID de la pregunta: 7 \n",
            "Enfoque de la pregunta: Ciencias \n",
            "Pregunta: Quien propuso la evolucion?\n",
            "a)Newton         b)Socrates       c)Darwin         d)Euler           \n",
            "\n",
            "Escriba su respuesta o exit para salir: Darwin\n",
            "Excelente\n",
            "\n",
            "ID de la pregunta: 777 \n",
            "Enfoque de la pregunta: Ciencias \n",
            "Pregunta: Significado de Bio\n",
            "a)Vida           b)Amor           c)Medicina       d)Moleculas       \n",
            "\n",
            "Escriba su respuesta o exit para salir: Vida\n",
            "Excelente\n",
            "\n",
            "Duracion del Examen = 0:1:20\n"
          ]
        }
      ]
    },
    {
      "cell_type": "code",
      "metadata": {
        "colab": {
          "base_uri": "https://localhost:8080/",
          "height": 730
        },
        "id": "CPFy0nlYi3I7",
        "outputId": "b5c2522d-c0e3-412e-95b5-810fbffee32c"
      },
      "source": [
        "reportar_calificaciones()"
      ],
      "execution_count": null,
      "outputs": [
        {
          "output_type": "stream",
          "name": "stdout",
          "text": [
            "Opcion 5: Reporte de calificaciones\n",
            "------------------------------ |\n",
            "| Total de usuarios:  X              \n",
            "------------------------------ |\n",
            "| Promedio:       62.3           \n",
            "------------------------------ |\n",
            "| Calificacion mas alta: 100            \n",
            "------------------------------ |\n",
            "| Calificacion mas baja:  36             \n",
            "------------------------------ |\n",
            "| Preguntas correctas:  37.5           \n",
            "------------------------------ |\n",
            "| Preguntas incorrectas:  62.5           \n",
            "------------------------------ |\n",
            "| Calificaciones almacenadas\n",
            "------------------------------ |\n",
            "| Calificacion #1 = 88\n",
            "------------------------------ |\n",
            "| Calificacion #2 = 50\n",
            "------------------------------ |\n",
            "| Calificacion #3 = 100\n",
            "------------------------------ |\n",
            "| Calificacion #4 = 36\n",
            "------------------------------ |\n",
            "| Calificacion #5 = 37.5\n",
            "------------------------------ |\n"
          ]
        },
        {
          "output_type": "display_data",
          "data": {
            "image/png": "[encoded data removed]",
            "text/plain": [
              "<Figure size 432x288 with 1 Axes>"
            ]
          },
          "metadata": {
            "needs_background": "light"
          }
        }
      ]
    },
    {
      "cell_type": "markdown",
      "metadata": {
        "id": "0RyjqaX1cn1h"
      },
      "source": [
        "### Main"
      ]
    },
    {
      "cell_type": "code",
      "metadata": {
        "id": "7r2uwYxIbGVJ"
      },
      "source": [
        "\n",
        "def main():\n",
        "  while True:\n",
        "    menu()\n",
        "\n",
        "    if seleccion1 == 1:\n",
        "      registrar_preguntas()\n",
        "\n",
        "    elif seleccion1 == 2:\n",
        "      actualizar_pregunta()\n",
        "\n",
        "    elif seleccion1 == 3: #Por el momento solo sirve con una pregunta por cada area\n",
        "      estudiar_area()\n",
        "\n",
        "    elif seleccion1 == 4:\n",
        "      presentar_quiz()\n",
        "\n",
        "    elif seleccion1 == 5: #Lllenar la lista de las calificaciones \n",
        "      reportar_calificaciones()\n",
        "\n",
        "    elif seleccion1 == 6:\n",
        "      salir()\n",
        "      break \n",
        "\n",
        "    else:\n",
        "      print('Opcion incorrecta'.center(50, '-')) \n",
        "\n",
        "#main()"
      ],
      "execution_count": 38,
      "outputs": []
    },
    {
      "cell_type": "markdown",
      "metadata": {
        "id": "K63JwQyK4EAO"
      },
      "source": [
        "Nuevo intento"
      ]
    },
    {
      "cell_type": "code",
      "metadata": {
        "colab": {
          "base_uri": "https://localhost:8080/",
          "height": 4954
        },
        "id": "kNSnK19M4SjC",
        "outputId": "6a72498e-be44-4a27-dbe7-f5083c11ebc6"
      },
      "source": [
        "main()"
      ],
      "execution_count": 95,
      "outputs": [
        {
          "output_type": "stream",
          "name": "stdout",
          "text": [
            "\n",
            "    Menu:\n",
            "    1. Alta de preguntas de prueba PISA (lectura, matemáticas, ciencias)\n",
            "    2. Actualizar preguntas de la prueba PISA (lectura, matemáticas, ciencias)\n",
            "    3. Estudiar preguntas de cierta área (lectura, matemáticas, ciencias)\n",
            "    4. Presentar un quiz (lectura, matemáticas, ciencias)\n",
            "    5. Reporte de calificaciones\n",
            "    6. Salir\n",
            "    \n",
            "Ingrese una opción: 777\n",
            "----------------Opcion incorrecta-----------------\n",
            "\n",
            "    Menu:\n",
            "    1. Alta de preguntas de prueba PISA (lectura, matemáticas, ciencias)\n",
            "    2. Actualizar preguntas de la prueba PISA (lectura, matemáticas, ciencias)\n",
            "    3. Estudiar preguntas de cierta área (lectura, matemáticas, ciencias)\n",
            "    4. Presentar un quiz (lectura, matemáticas, ciencias)\n",
            "    5. Reporte de calificaciones\n",
            "    6. Salir\n",
            "    \n",
            "Ingrese una opción: 1\n",
            "Ingrese el ID: 777\n",
            "Ingrese el enfoque: Mate\n",
            "Ingrese la pregunta: 5 * 5 + 5\n",
            "Ingrese una posible respuesta: 25\n",
            "Ingrese una posible respuesta: 50\n",
            "Ingrese una posible respuesta: 30\n",
            "Ingrese una posible respuesta: 35\n",
            "Ingrese la respuesta correcta: 30\n",
            "\n",
            "    Menu:\n",
            "    1. Alta de preguntas de prueba PISA (lectura, matemáticas, ciencias)\n",
            "    2. Actualizar preguntas de la prueba PISA (lectura, matemáticas, ciencias)\n",
            "    3. Estudiar preguntas de cierta área (lectura, matemáticas, ciencias)\n",
            "    4. Presentar un quiz (lectura, matemáticas, ciencias)\n",
            "    5. Reporte de calificaciones\n",
            "    6. Salir\n",
            "    \n",
            "Ingrese una opción: 2\n",
            "Opcion 2: Actualizar preguntas\n",
            "ID de la pregunta: 1 \n",
            "Enfoque de la pregunta: Mate \n",
            "Pregunta: 8 + 8 * 1/2\n",
            "a)13             b)12             c)15             d)15.56           \n",
            "\n",
            "ID de la pregunta: 2 \n",
            "Enfoque de la pregunta: Mate \n",
            "Pregunta: (256)^1/2\n",
            "a)9              b)8              c)17             d)16              \n",
            "\n",
            "ID de la pregunta: 3 \n",
            "Enfoque de la pregunta: Lectura \n",
            "Pregunta: Quien escribio 1984?\n",
            "a)Orwell         b)Kafka          c)Coelho         d)Garcia Marquez  \n",
            "\n",
            "ID de la pregunta: 4 \n",
            "Enfoque de la pregunta: Lectura \n",
            "Pregunta: Cual es el género de 100 años de soledad?\n",
            "a)epístola       b)epopeya        c)poema          d)realismo mágico \n",
            "\n",
            "ID de la pregunta: 5 \n",
            "Enfoque de la pregunta: Mate \n",
            "Pregunta: cual es un numero par?\n",
            "a)115            b)217            c)108            d)159             \n",
            "\n",
            "ID de la pregunta: 6 \n",
            "Enfoque de la pregunta: Mate \n",
            "Pregunta: Cual es un numero impar?\n",
            "a)13             b)12             c)24             d)36              \n",
            "\n",
            "ID de la pregunta: 7 \n",
            "Enfoque de la pregunta: Ciencias \n",
            "Pregunta: Quien propuso la evolucion?\n",
            "a)Newton         b)Socrates       c)Darwin         d)Euler           \n",
            "\n",
            "ID de la pregunta: 777 \n",
            "Enfoque de la pregunta: Mate \n",
            "Pregunta: 5 * 5 + 5\n",
            "a)25             b)50             c)30             d)35              \n",
            "\n",
            "Ingrese el ID de la pregunta que quiera cambiar: 7\n",
            "\n",
            "ID de la pregunta: 7\n",
            "Enfoque de la pregunta: Ciencias\n",
            "Pregunta: Quien propuso la evolucion?\n",
            "a)Newton         b)Socrates       c)Darwin         d)Euler          \n",
            "Respuesta correcta: Darwin\n",
            "Que quieres cambiar de la pregunta con id 7?\n",
            " Cambiar el id, seccion, la pregunta, r1, r2, r3, r4 o la respuesta correcta? r2\n",
            "Cual sera la respuesta corregida? Platon\n",
            "Estas seguro que deseas cambiar r2? Si\n",
            "\n",
            "ID de la pregunta: 7\n",
            "Enfoque de la pregunta: Ciencias\n",
            "Pregunta: Quien propuso la evolucion?\n",
            "a)Newton         b)Platon         c)Darwin         d)Euler          \n",
            "Respuesta correcta: Darwin\n",
            "\n",
            "    Menu:\n",
            "    1. Alta de preguntas de prueba PISA (lectura, matemáticas, ciencias)\n",
            "    2. Actualizar preguntas de la prueba PISA (lectura, matemáticas, ciencias)\n",
            "    3. Estudiar preguntas de cierta área (lectura, matemáticas, ciencias)\n",
            "    4. Presentar un quiz (lectura, matemáticas, ciencias)\n",
            "    5. Reporte de calificaciones\n",
            "    6. Salir\n",
            "    \n",
            "Ingrese una opción: 3\n",
            "Opcion 3: Estudiar area\n",
            "Ingrese el area que quiera estudiar: Lectura\n",
            "Ingrese la cantidad de preguntass que quira estudiar: 2\n",
            "\n",
            "ID de la pregunta: 3\n",
            "Enfoque de la pregunta: Lectura\n",
            "Pregunta: Quien escribio 1984?\n",
            "a)Orwell         b)Kafka          c)Coelho         d)Garcia Marquez \n",
            "Inoduzca la respuesta correcta: Orwell\n",
            "Excelente\n",
            "\n",
            "\n",
            "ID de la pregunta: 4\n",
            "Enfoque de la pregunta: Lectura\n",
            "Pregunta: Cual es el género de 100 años de soledad?\n",
            "a)epístola       b)epopeya        c)poema          d)realismo mágico\n",
            "Inoduzca la respuesta correcta: poema\n",
            "Respuesta correcta: realismo mágico\n",
            "\n",
            "    Menu:\n",
            "    1. Alta de preguntas de prueba PISA (lectura, matemáticas, ciencias)\n",
            "    2. Actualizar preguntas de la prueba PISA (lectura, matemáticas, ciencias)\n",
            "    3. Estudiar preguntas de cierta área (lectura, matemáticas, ciencias)\n",
            "    4. Presentar un quiz (lectura, matemáticas, ciencias)\n",
            "    5. Reporte de calificaciones\n",
            "    6. Salir\n",
            "    \n",
            "Ingrese una opción: 4\n",
            "Opcion 4: Presentar quiz\n",
            "\n",
            "ID de la pregunta: 1 \n",
            "Enfoque de la pregunta: Mate \n",
            "Pregunta: 8 + 8 * 1/2\n",
            "a)13             b)12             c)15             d)15.56           \n",
            "\n",
            "Escriba su respuesta o exit para salir: 12\n",
            "Excelente\n",
            "\n",
            "Tiempo restante: \n",
            "19:56\n",
            "\n",
            "ID de la pregunta: 2 \n",
            "Enfoque de la pregunta: Mate \n",
            "Pregunta: (256)^1/2\n",
            "a)9              b)8              c)17             d)16              \n",
            "\n",
            "Escriba su respuesta o exit para salir: 16\n",
            "Excelente\n",
            "\n",
            "Tiempo restante: \n",
            "19:55\n",
            "\n",
            "ID de la pregunta: 3 \n",
            "Enfoque de la pregunta: Lectura \n",
            "Pregunta: Quien escribio 1984?\n",
            "a)Orwell         b)Kafka          c)Coelho         d)Garcia Marquez  \n",
            "\n",
            "Escriba su respuesta o exit para salir: Orwell\n",
            "Excelente\n",
            "\n",
            "Tiempo restante: \n",
            "19:48\n",
            "\n",
            "ID de la pregunta: 4 \n",
            "Enfoque de la pregunta: Lectura \n",
            "Pregunta: Cual es el género de 100 años de soledad?\n",
            "a)epístola       b)epopeya        c)poema          d)realismo mágico \n",
            "\n",
            "Escriba su respuesta o exit para salir: poema\n",
            "Incorrecto, la respuesta correcta es: realismo mágico\n",
            "\n",
            "Tiempo restante: \n",
            "19:40\n",
            "\n",
            "ID de la pregunta: 5 \n",
            "Enfoque de la pregunta: Mate \n",
            "Pregunta: cual es un numero par?\n",
            "a)115            b)217            c)108            d)159             \n",
            "\n",
            "Escriba su respuesta o exit para salir: 108\n",
            "Excelente\n",
            "\n",
            "Tiempo restante: \n",
            "19:35\n",
            "\n",
            "ID de la pregunta: 6 \n",
            "Enfoque de la pregunta: Mate \n",
            "Pregunta: Cual es un numero impar?\n",
            "a)13             b)12             c)24             d)36              \n",
            "\n",
            "Escriba su respuesta o exit para salir: 36\n",
            "Incorrecto, la respuesta correcta es: 13\n",
            "\n",
            "Tiempo restante: \n",
            "19:30\n",
            "\n",
            "ID de la pregunta: 7 \n",
            "Enfoque de la pregunta: Ciencias \n",
            "Pregunta: Quien propuso la evolucion?\n",
            "a)Newton         b)Platon         c)Darwin         d)Euler           \n",
            "\n",
            "Escriba su respuesta o exit para salir: Darwin\n",
            "Excelente\n",
            "\n",
            "Tiempo restante: \n",
            "18:41\n",
            "\n",
            "ID de la pregunta: 777 \n",
            "Enfoque de la pregunta: Mate \n",
            "Pregunta: 5 * 5 + 5\n",
            "a)25             b)50             c)30             d)35              \n",
            "\n",
            "Escriba su respuesta o exit para salir: 30\n",
            "Excelente\n",
            "\n",
            "Tiempo restante: \n",
            "18:34\n",
            "\n",
            "Duracion del examen: \n",
            "1:26\n",
            "\n",
            "\n",
            "    Menu:\n",
            "    1. Alta de preguntas de prueba PISA (lectura, matemáticas, ciencias)\n",
            "    2. Actualizar preguntas de la prueba PISA (lectura, matemáticas, ciencias)\n",
            "    3. Estudiar preguntas de cierta área (lectura, matemáticas, ciencias)\n",
            "    4. Presentar un quiz (lectura, matemáticas, ciencias)\n",
            "    5. Reporte de calificaciones\n",
            "    6. Salir\n",
            "    \n",
            "Ingrese una opción: 5\n",
            "Opcion 5: Reporte de calificaciones\n",
            "[ 88  50 100  36  80  66  70   0]\n",
            "------------------------------ |\n",
            "| Total de usuarios:  1              \n",
            "------------------------------ |\n",
            "| Promedio:       70.625         \n",
            "------------------------------ |\n",
            "| Calificacion mas alta: 100            \n",
            "------------------------------ |\n",
            "| Calificacion mas baja:  36             \n",
            "------------------------------ |\n",
            "| Preguntas correctas:  75.0           \n",
            "------------------------------ |\n",
            "| Preguntas incorrectas:  25.0           \n",
            "------------------------------ |\n",
            "| Calificaciones almacenadas\n",
            "------------------------------ |\n",
            "| Calificacion #1 = 88\n",
            "------------------------------ |\n",
            "| Calificacion #2 = 50\n",
            "------------------------------ |\n",
            "| Calificacion #3 = 100\n",
            "------------------------------ |\n",
            "| Calificacion #4 = 36\n",
            "------------------------------ |\n",
            "| Calificacion #5 = 80\n",
            "------------------------------ |\n",
            "| Calificacion #6 = 66\n",
            "------------------------------ |\n",
            "| Calificacion #7 = 70\n",
            "------------------------------ |\n",
            "| Calificacion #8 = 75.0\n",
            "------------------------------ |\n",
            "\n",
            "    Menu:\n",
            "    1. Alta de preguntas de prueba PISA (lectura, matemáticas, ciencias)\n",
            "    2. Actualizar preguntas de la prueba PISA (lectura, matemáticas, ciencias)\n",
            "    3. Estudiar preguntas de cierta área (lectura, matemáticas, ciencias)\n",
            "    4. Presentar un quiz (lectura, matemáticas, ciencias)\n",
            "    5. Reporte de calificaciones\n",
            "    6. Salir\n",
            "    \n",
            "Ingrese una opción: 6\n",
            "Saliendo del menu, regrese pronto :)\n"
          ]
        },
        {
          "output_type": "display_data",
          "data": {
            "image/png": "[encoded data removed]",
            "text/plain": [
              "<Figure size 432x288 with 1 Axes>"
            ]
          },
          "metadata": {
            "needs_background": "light"
          }
        }
      ]
    }
  ]
}